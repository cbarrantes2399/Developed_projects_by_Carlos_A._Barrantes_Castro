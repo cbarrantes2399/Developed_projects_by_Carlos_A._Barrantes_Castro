{
 "cells": [
  {
   "cell_type": "code",
   "execution_count": 1,
   "id": "681be972",
   "metadata": {},
   "outputs": [],
   "source": [
    "%matplotlib inline"
   ]
  },
  {
   "cell_type": "markdown",
   "id": "5ad40792",
   "metadata": {},
   "source": [
    "# MNIST template\n",
    "\n",
    "## Tarea 4\n",
    "\n",
    "Este archivo permite cargar el set de datos MNIST para ser usado con scikit-learn.\n",
    "\n",
    "Puede usarlo como base para entrenar sus modelos, la selección de modelos.  No olvide guardar sus modelos en un archivo para utilizar los mejores de ellos en ``predict_digit.ipynb``."
   ]
  },
  {
   "cell_type": "markdown",
   "id": "33b69848",
   "metadata": {},
   "source": [
    "MNIST es un set de datos bastante utilizado, y existen múltiples posibilidades de cargarlo en programas de Python.\n",
    "\n",
    "- Usando ``fetch_openml`` de ``sckit-learn`` es una opción pero tiene en algunas versiones el problema de que baja todo el conjunto de internet cada vez que se ejecuta el programa, lo que no lo hace viable.\n",
    "- Usando el paquete ``python-mnist``, que no existe en las distribuciones de conda\n",
    "- Usando el paquete ``mnist``\n",
    "- Usando ``pandas``\n",
    "\n",
    "Aquí usaremos la versión que usa el paquete ``mnist``, para evitar dependencias adicionales a bibliotecas grandes.\n",
    "\n",
    "Dicho paquete carga los datos como un tensor de 60000x28x28, es decir, 60000 imágenes de 28x28 dimensiones.  Cada pixel es de tipo entero sin signo de 8 bits."
   ]
  },
  {
   "cell_type": "code",
   "execution_count": 2,
   "id": "01e7196b",
   "metadata": {},
   "outputs": [],
   "source": [
    "# Si le falta la biblioteca 'mnist' y usa Anaconda:\n",
    "#!conda install mnist\n",
    "\n",
    "# o cualquier otra distribución de Python:\n",
    "#!pip install mnist"
   ]
  },
  {
   "cell_type": "code",
   "execution_count": 3,
   "id": "45c10fee",
   "metadata": {},
   "outputs": [],
   "source": [
    "import mnist\n",
    "import numpy as np\n",
    "import matplotlib.pyplot as plt\n",
    "\n",
    "from sklearn.preprocessing import OneHotEncoder\n",
    "\n",
    "import time\n",
    "from pathlib import Path"
   ]
  },
  {
   "cell_type": "code",
   "execution_count": 4,
   "id": "bfef16f8",
   "metadata": {},
   "outputs": [
    {
     "name": "stdout",
     "output_type": "stream",
     "text": [
      "Tardó: 1.217297077178955 s\n",
      "Entrenamiento: 60000 datos de 28x28 dimensiones\n",
      "Validación   : 10000 datos de 28x28 dimensiones\n"
     ]
    }
   ],
   "source": [
    "tic=time.time()\n",
    "\n",
    "# Asegure que el directorio de datos existe.\n",
    "datadir='./mnist_data/'\n",
    "Path(datadir).mkdir(parents=False, exist_ok=True)\n",
    "\n",
    "# temporary_dir es una función que retorna el directorio temporal;\n",
    "mnist.temporary_dir = lambda: datadir\n",
    "\n",
    "# Prepare el codificador 'one-hot'\n",
    "enc = OneHotEncoder(handle_unknown='ignore')\n",
    "\n",
    "# La primera vez, esto puede tardar unos segundos a minutos por tener\n",
    "# que bajar los datos originales de internet.\n",
    "# Después de eso debería ser rápido.\n",
    "\n",
    "# Prepare los datos de entrenamiento\n",
    "train_images = mnist.train_images() # Esto es un tensor m x 28 x 28\n",
    "train_labels = mnist.train_labels().astype(int)\n",
    "train_ohelab = enc.fit_transform(train_labels.reshape(-1,1)).toarray() # labels one-hot encoded\n",
    "\n",
    "m,h,w=train_images.shape\n",
    "train_data = train_images.reshape((m,w*h)).astype(float)/255 # Esto es una matrix de m x 784\n",
    "\n",
    "# Prepare los datos de validación\n",
    "val_images = mnist.test_images() # Esto es un tensor de m x 28 x 28\n",
    "val_labels = mnist.test_labels().astype(int)\n",
    "val_ohelab = enc.transform(val_labels.reshape(-1,1)).toarray()\n",
    "\n",
    "vm,vh,vw=val_images.shape\n",
    "val_data = val_images.reshape((vm,vw*vh)).astype(float)/255 # Esto es una matrix de m x 784\n",
    "\n",
    "\n",
    "toc=time.time()-tic\n",
    "print(\"Tardó: {0} s\".format(toc))\n",
    "\n",
    "print(\"Entrenamiento: {0} datos de {1}x{2} dimensiones\".format(m,h,w))\n",
    "print(\"Validación   : {0} datos de {1}x{2} dimensiones\".format(vm,vh,vw))"
   ]
  },
  {
   "cell_type": "markdown",
   "id": "6e5948a1",
   "metadata": {},
   "source": [
    "A este punto, se cuenta con la siguiente información para poder entrenar:\n",
    "\n",
    "- train_data: arreglo de 60000 datos de 784 dimensiones\n",
    "- train_label: vector de 60000 etiquetas como enteros entre 0 y 9\n",
    "- train_ohelab: arreglo de 60000x10 con la codificación de las etiquetas _one-hot_\n",
    "- val_data: arreglo de 10000 datos de 784 dimensiones\n",
    "- val_label: vector de 10000 etiquetas como enteros entre 0 y 9\n",
    "- val_ohelab: arreglo de 10000x10 con la codificación de las etiquetas _one-hot_\n"
   ]
  },
  {
   "cell_type": "code",
   "execution_count": 5,
   "id": "be8373f7",
   "metadata": {},
   "outputs": [
    {
     "data": {
      "image/png": "[encoded data removed]",
      "text/plain": [
       "<Figure size 432x288 with 1 Axes>"
      ]
     },
     "metadata": {
      "needs_background": "light"
     },
     "output_type": "display_data"
    },
    {
     "name": "stdout",
     "output_type": "stream",
     "text": [
      "Etiqueta entera: 0\n",
      "         one-hot: [1. 0. 0. 0. 0. 0. 0. 0. 0. 0.]\n"
     ]
    },
    {
     "data": {
      "image/png": "[encoded data removed]",
      "text/plain": [
       "<Figure size 432x288 with 1 Axes>"
      ]
     },
     "metadata": {
      "needs_background": "light"
     },
     "output_type": "display_data"
    },
    {
     "name": "stdout",
     "output_type": "stream",
     "text": [
      "Etiqueta entera: 2\n",
      "         one-hot: [0. 0. 1. 0. 0. 0. 0. 0. 0. 0.]\n"
     ]
    },
    {
     "data": {
      "image/png": "[encoded data removed]",
      "text/plain": [
       "<Figure size 432x288 with 1 Axes>"
      ]
     },
     "metadata": {
      "needs_background": "light"
     },
     "output_type": "display_data"
    },
    {
     "name": "stdout",
     "output_type": "stream",
     "text": [
      "Etiqueta entera: 9\n",
      "         one-hot: [0. 0. 0. 0. 0. 0. 0. 0. 0. 1.]\n"
     ]
    },
    {
     "data": {
      "image/png": "[encoded data removed]",
      "text/plain": [
       "<Figure size 432x288 with 1 Axes>"
      ]
     },
     "metadata": {
      "needs_background": "light"
     },
     "output_type": "display_data"
    },
    {
     "name": "stdout",
     "output_type": "stream",
     "text": [
      "Etiqueta entera: 9\n",
      "         one-hot: [0. 0. 0. 0. 0. 0. 0. 0. 0. 1.]\n"
     ]
    }
   ],
   "source": [
    "# Muestre algunas muestras\n",
    "samples = np.random.choice(np.arange(m),4,replace=False)\n",
    "\n",
    "for i in samples:\n",
    "    plt.imshow(train_data[i].reshape((28,28)),cmap='gray')\n",
    "    plt.show()\n",
    "\n",
    "    print(\"Etiqueta entera:\",train_labels[i])\n",
    "    print(\"         one-hot:\",train_ohelab[i])\n"
   ]
  },
  {
   "cell_type": "markdown",
   "id": "34efbf8f",
   "metadata": {},
   "source": [
    "## Entrenar/seleccionar modelos\n",
    "\n",
    "A continuación usted debe entrenar y seleccionar los modelos, y guardar el mejor de ellos para cada tipo (SVM, RDF, kNN)"
   ]
  },
  {
   "cell_type": "code",
   "execution_count": 6,
   "id": "4e355aec",
   "metadata": {},
   "outputs": [],
   "source": [
    "A=list(range(1,6,1))\n",
    "B=list(range(10,51,10))\n",
    "A += B\n",
    "# Set the parameters by cross-validation\n",
    "tuned_parameters = [{'n_neighbors': A,'weights': ['distance']},{'n_neighbors': A,'weights': ['uniform']}]\n",
    "\n",
    "scores = ['precision', 'recall']"
   ]
  },
  {
   "cell_type": "code",
   "execution_count": 7,
   "id": "50ca6a30",
   "metadata": {},
   "outputs": [
    {
     "name": "stdout",
     "output_type": "stream",
     "text": [
      "{'n_neighbors': 1, 'weights': 'distance'}\n",
      "{'n_neighbors': 2, 'weights': 'distance'}\n",
      "{'n_neighbors': 3, 'weights': 'distance'}\n",
      "{'n_neighbors': 4, 'weights': 'distance'}\n",
      "{'n_neighbors': 5, 'weights': 'distance'}\n",
      "{'n_neighbors': 10, 'weights': 'distance'}\n",
      "{'n_neighbors': 20, 'weights': 'distance'}\n",
      "{'n_neighbors': 30, 'weights': 'distance'}\n",
      "{'n_neighbors': 40, 'weights': 'distance'}\n",
      "{'n_neighbors': 50, 'weights': 'distance'}\n",
      "{'n_neighbors': 1, 'weights': 'uniform'}\n",
      "{'n_neighbors': 2, 'weights': 'uniform'}\n",
      "{'n_neighbors': 3, 'weights': 'uniform'}\n",
      "{'n_neighbors': 4, 'weights': 'uniform'}\n",
      "{'n_neighbors': 5, 'weights': 'uniform'}\n",
      "{'n_neighbors': 10, 'weights': 'uniform'}\n",
      "{'n_neighbors': 20, 'weights': 'uniform'}\n",
      "{'n_neighbors': 30, 'weights': 'uniform'}\n",
      "{'n_neighbors': 40, 'weights': 'uniform'}\n",
      "{'n_neighbors': 50, 'weights': 'uniform'}\n"
     ]
    },
    {
     "data": {
      "text/plain": [
       "<matplotlib.collections.PathCollection at 0x22f5e6d41c0>"
      ]
     },
     "execution_count": 7,
     "metadata": {},
     "output_type": "execute_result"
    },
    {
     "data": {
      "image/png": "[encoded data removed]",
      "text/plain": [
       "<Figure size 432x288 with 1 Axes>"
      ]
     },
     "metadata": {
      "needs_background": "light"
     },
     "output_type": "display_data"
    }
   ],
   "source": [
    "from sklearn.neighbors import KNeighborsClassifier\n",
    "from sklearn.metrics import precision_score,recall_score\n",
    "\n",
    "from sklearn.model_selection import KFold\n",
    "from sklearn.model_selection import ParameterGrid\n",
    "\n",
    "# Crear una lista con las combinaciones deseadas de parámetros\n",
    "grid = ParameterGrid(tuned_parameters)\n",
    "\n",
    "N_FOLD=5\n",
    "RANDOM_SEED=42\n",
    "\n",
    "# Preparar particionador de los datos\n",
    "cv = KFold(n_splits=N_FOLD, shuffle=True, random_state=RANDOM_SEED)\n",
    "\n",
    "precisions,recalls=[],[]\n",
    "\n",
    "for params in grid:\n",
    "    classifier = KNeighborsClassifier(**params)\n",
    "    print(params)\n",
    "    precision,recall=0,0\n",
    "    for train_index, test_index in cv.split(train_data):\n",
    "        cX_train, cX_test = train_data[train_index], train_data[test_index]\n",
    "        cy_train, cy_test = train_labels[train_index], train_labels[test_index]\n",
    "\n",
    "        classifier.fit(cX_train,cy_train)\n",
    "        y_predicted=classifier.predict(cX_test)\n",
    "        \n",
    "        precision+=precision_score(cy_test,y_predicted,average='weighted')\n",
    "        recall+=recall_score(cy_test,y_predicted,average='weighted')\n",
    "        \n",
    "    precision/=N_FOLD\n",
    "    recall/=N_FOLD\n",
    "    \n",
    "    precisions.append(precision)\n",
    "    recalls.append(recall)\n",
    "\n",
    "plt.figure();\n",
    "plt.scatter(precisions,recalls)\n"
   ]
  },
  {
   "cell_type": "code",
   "execution_count": 12,
   "id": "7888447c",
   "metadata": {},
   "outputs": [],
   "source": [
    "##La asignación de los mejores parámetros se hizo de forma manual,\n",
    "##ya que visualmente se pudo ver como hay un parámetro que tiene mayor precision y recall.\n",
    "\n",
    "##El código utilizado para determinar cual índice es el que contiene el mejor parámetro es el siguiente:\n",
    "# tmp = max(recalls)\n",
    "# index = recalls.index(tmp)\n",
    "# print(index)\n",
    "# print(recalls)"
   ]
  },
  {
   "cell_type": "code",
   "execution_count": 13,
   "id": "724bc56e",
   "metadata": {},
   "outputs": [
    {
     "data": {
      "image/png": "[encoded data removed]",
      "text/plain": [
       "<Figure size 432x288 with 2 Axes>"
      ]
     },
     "metadata": {
      "needs_background": "light"
     },
     "output_type": "display_data"
    }
   ],
   "source": [
    "#una vez definido el mejor parámetro, se entrena nuevamente con dicho parámetro y se carga la red entrenada\n",
    "#además, se obtiene la matriz de confusión\n",
    "from sklearn.metrics import confusion_matrix\n",
    "from sklearn.metrics import ConfusionMatrixDisplay\n",
    "\n",
    "kNNClassifier = KNeighborsClassifier(n_neighbors= 4, weights = 'distance')\n",
    "\n",
    "kNNClassifier.fit(train_data,train_labels)\n",
    "y_predicted=kNNClassifier.predict(val_data)\n",
    "\n",
    "cm = confusion_matrix(val_labels, y_predicted)\n",
    "cm_display = ConfusionMatrixDisplay(cm).plot()\n",
    "    "
   ]
  },
  {
   "cell_type": "code",
   "execution_count": 14,
   "id": "233408bf",
   "metadata": {},
   "outputs": [
    {
     "data": {
      "text/plain": [
       "['knnclass.joblib']"
      ]
     },
     "execution_count": 14,
     "metadata": {},
     "output_type": "execute_result"
    }
   ],
   "source": [
    "from joblib import dump, load\n",
    "\n",
    "dump(kNNClassifier,\"knnclass.joblib\")"
   ]
  },
  {
   "cell_type": "code",
   "execution_count": null,
   "id": "a287306c",
   "metadata": {},
   "outputs": [],
   "source": []
  }
 ],
 "metadata": {
  "kernelspec": {
   "display_name": "Python 3 (ipykernel)",
   "language": "python",
   "name": "python3"
  },
  "language_info": {
   "codemirror_mode": {
    "name": "ipython",
    "version": 3
   },
   "file_extension": ".py",
   "mimetype": "text/x-python",
   "name": "python",
   "nbconvert_exporter": "python",
   "pygments_lexer": "ipython3",
   "version": "3.10.2"
  }
 },
 "nbformat": 4,
 "nbformat_minor": 5
}
